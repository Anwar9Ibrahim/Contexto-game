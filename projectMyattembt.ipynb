{
  "cells": [
    {
      "cell_type": "code",
      "execution_count": 2,
      "metadata": {
        "colab": {
          "base_uri": "https://localhost:8080/"
        },
        "id": "FkPjLz50SV86",
        "outputId": "4fcf2154-58c9-46ec-dfdd-f4fc3fb72ac0"
      },
      "outputs": [
        {
          "name": "stdout",
          "output_type": "stream",
          "text": [
            "Mounted at /content/gdrive\n"
          ]
        }
      ],
      "source": [
        "# connect to drive to get the trained model\n",
        "from google.colab import drive\n",
        "\n",
        "drive.mount('/content/gdrive')"
      ]
    },
    {
      "cell_type": "code",
      "execution_count": null,
      "metadata": {
        "id": "32c2l3iqUDA9"
      },
      "outputs": [],
      "source": [
        "#unzip the model \n",
        "#!gzip -d \"/content/gdrive/MyDrive/contexto/GoogleNews-vectors-negative300.bin.gz\""
      ]
    },
    {
      "cell_type": "code",
      "execution_count": 3,
      "metadata": {
        "id": "owlOJGgZVOMK"
      },
      "outputs": [],
      "source": [
        "#copy the model to my colab\n",
        "!cp \"/content/gdrive/MyDrive/contexto/GoogleNews-vectors-negative300.bin\" \"/content/\""
      ]
    },
    {
      "cell_type": "code",
      "execution_count": 2,
      "metadata": {},
      "outputs": [
        {
          "name": "stdout",
          "output_type": "stream",
          "text": [
            "Collecting gensim\n",
            "  Downloading gensim-4.3.1-cp310-cp310-win_amd64.whl (24.0 MB)\n",
            "     ---------------------------------------- 24.0/24.0 MB 3.0 MB/s eta 0:00:00\n",
            "Collecting smart-open>=1.8.1\n",
            "  Downloading smart_open-6.3.0-py3-none-any.whl (56 kB)\n",
            "     ---------------------------------------- 56.8/56.8 kB 1.5 MB/s eta 0:00:00\n",
            "Requirement already satisfied: numpy>=1.18.5 in c:\\users\\ое\\appdata\\local\\packages\\pythonsoftwarefoundation.python.3.10_qbz5n2kfra8p0\\localcache\\local-packages\\python310\\site-packages (from gensim) (1.23.5)\n",
            "Requirement already satisfied: scipy>=1.7.0 in c:\\users\\ое\\appdata\\local\\packages\\pythonsoftwarefoundation.python.3.10_qbz5n2kfra8p0\\localcache\\local-packages\\python310\\site-packages (from gensim) (1.9.3)\n",
            "Installing collected packages: smart-open, gensim\n",
            "Successfully installed gensim-4.3.1 smart-open-6.3.0\n",
            "Note: you may need to restart the kernel to use updated packages.\n"
          ]
        },
        {
          "name": "stderr",
          "output_type": "stream",
          "text": [
            "\n",
            "[notice] A new release of pip available: 22.3.1 -> 23.0.1\n",
            "[notice] To update, run: C:\\Users\\ое\\AppData\\Local\\Microsoft\\WindowsApps\\PythonSoftwareFoundation.Python.3.10_qbz5n2kfra8p0\\python.exe -m pip install --upgrade pip\n"
          ]
        }
      ],
      "source": [
        "pip install gensim"
      ]
    },
    {
      "cell_type": "code",
      "execution_count": 3,
      "metadata": {
        "id": "VzOmQIChMl-D"
      },
      "outputs": [],
      "source": [
        "#create the model\n",
        "import numpy as np\n",
        "import gensim\n",
        "modelPath=\"D:\\\\projectContexto\\\\contextoApp\\\\GoogleNews-vectors-negative300.bin\"\n",
        "wordsPath= \"D:\\\\projectContexto\\\\contextoApp\\\\nouns.txt\"\n",
        "model= gensim.models.keyedvectors.Word2VecKeyedVectors.load_word2vec_format(modelPath, binary=True)\n"
      ]
    },
    {
      "cell_type": "code",
      "execution_count": 4,
      "metadata": {
        "colab": {
          "base_uri": "https://localhost:8080/",
          "height": 35
        },
        "id": "tmpIjd58jH1F",
        "outputId": "4b8deb3f-8da8-434b-e169-05253b9f93af"
      },
      "outputs": [
        {
          "data": {
            "text/plain": [
              "'gas'"
            ]
          },
          "execution_count": 4,
          "metadata": {},
          "output_type": "execute_result"
        }
      ],
      "source": [
        "#get the most common words in english\n",
        "\n",
        "data = [line.strip() for line in open(wordsPath, 'r')]\n",
        "data[100]"
      ]
    },
    {
      "cell_type": "code",
      "execution_count": 5,
      "metadata": {
        "colab": {
          "base_uri": "https://localhost:8080/"
        },
        "id": "DNFBnixFQBq1",
        "outputId": "1a44d4f3-5336-4e2a-973d-09e3bd39bddf"
      },
      "outputs": [
        {
          "name": "stdout",
          "output_type": "stream",
          "text": [
            "0.31306836\n"
          ]
        }
      ],
      "source": [
        "print(model.similarity(data[1], data[100]))"
      ]
    },
    {
      "cell_type": "code",
      "execution_count": 6,
      "metadata": {
        "id": "kRau4PQpWBMW"
      },
      "outputs": [],
      "source": [
        "vocabs= list(model.key_to_index.keys())\n",
        "#vocabs"
      ]
    },
    {
      "cell_type": "code",
      "execution_count": 7,
      "metadata": {
        "id": "x2ZkdjVjMlnG"
      },
      "outputs": [],
      "source": [
        "class environment():\n",
        "  def __init__(self, available_words, model):\n",
        "    self.model= model #gensim.models.keyedvectors.Word2VecKeyedVectors.load_word2vec_format('/content/GoogleNews-vectors-negative300.bin', binary=True)\n",
        "    self.observation=  dict()\n",
        "    self.reward=0\n",
        "    self.done= False\n",
        "    self.action= \" \"\n",
        "    self.action_space= available_words\n",
        "    self.target_word=np.random.choice(self.action_space)\n",
        "    self.attempts= 0\n",
        "  \n",
        "  def reset(self):\n",
        "    self.target_word=np.random.choice(self.action_space)\n",
        "    self.observation=  dict()\n",
        "    self.reward=0\n",
        "    self.done= False\n",
        "    self.action= \" \"\n",
        "    self.attempts= 0\n",
        "    return self.observation, self.reward, self.done\n",
        "\n",
        "\n",
        "  def act(self, action):\n",
        "    if not self.done:\n",
        "      if action not in self.action_space:\n",
        "        print(\"word not in avilable words\")\n",
        "        self.reward= -1000\n",
        "        self.observation[action]= self.reward \n",
        "        self.attempts+= 1\n",
        "        return self.observation, self.reward, self.done\n",
        "      else:\n",
        "        similarity= self.model.similarity(action, self.target_word)\n",
        "        self.reward= similarity*100\n",
        "        self.observation[action]= similarity\n",
        "        if (similarity>= 0.999):\n",
        "          self.done= True\n",
        "        return self.observation, self.reward, self.done\n",
        "    else:\n",
        "      self.observation, self.reward, self.done= self.reset()\n",
        "      return self.observation, self.reward, self.done\n",
        "\n",
        "  def as_len(self):\n",
        "      return len(self.action_space)"
      ]
    },
    {
      "cell_type": "code",
      "execution_count": 13,
      "metadata": {
        "colab": {
          "base_uri": "https://localhost:8080/"
        },
        "id": "_oWKhE3hQPes",
        "outputId": "747aed66-3ba0-4d8b-d85a-99aa58b2386c"
      },
      "outputs": [
        {
          "name": "stdout",
          "output_type": "stream",
          "text": [
            "0\n"
          ]
        }
      ],
      "source": [
        "#try the environment \n",
        "contexto= environment(data, model)\n",
        "\n",
        "print(len(contexto.observation.items()))"
      ]
    },
    {
      "cell_type": "code",
      "execution_count": 21,
      "metadata": {
        "id": "qLVux5aw-2TJ"
      },
      "outputs": [],
      "source": [
        "w='building'\n",
        "distances=dict()\n",
        "for w in data:\n",
        "  if w in vocabs:\n",
        "    distances[w]= model.distance(w, contexto.target_word)\n",
        "\n",
        "#distances"
      ]
    },
    {
      "cell_type": "code",
      "execution_count": 22,
      "metadata": {
        "id": "DzqCTLL1ArNx"
      },
      "outputs": [
        {
          "name": "stdout",
          "output_type": "stream",
          "text": [
            "awareness\n"
          ]
        }
      ],
      "source": [
        "min(distances.values())\n",
        "print(list(distances.keys())[list(distances.values()).index(min(distances.values()))])  # Prints george"
      ]
    },
    {
      "cell_type": "code",
      "execution_count": 14,
      "metadata": {
        "colab": {
          "base_uri": "https://localhost:8080/"
        },
        "id": "uBxD-mQvbH_j",
        "outputId": "f3ef4111-2b70-4fb4-e15e-91deb2199d76"
      },
      "outputs": [
        {
          "name": "stdout",
          "output_type": "stream",
          "text": [
            "{'awareness': 0.1511945} 15.11944979429245 False\n"
          ]
        }
      ],
      "source": [
        "obs, reward, done =contexto.act(\"awareness\")\n",
        "print(obs, reward, done)"
      ]
    },
    {
      "cell_type": "code",
      "execution_count": 22,
      "metadata": {},
      "outputs": [
        {
          "name": "stdout",
          "output_type": "stream",
          "text": [
            "awareness\n"
          ]
        }
      ],
      "source": [
        "for item in obs.items():\n",
        "    print(item[0])"
      ]
    },
    {
      "cell_type": "code",
      "execution_count": 24,
      "metadata": {},
      "outputs": [],
      "source": [
        "guessed= dict()"
      ]
    },
    {
      "cell_type": "code",
      "execution_count": 30,
      "metadata": {},
      "outputs": [
        {
          "data": {
            "text/plain": [
              "{'table': 1, 'book': 1, 'ge': 1}"
            ]
          },
          "execution_count": 30,
          "metadata": {},
          "output_type": "execute_result"
        }
      ],
      "source": [
        "\n",
        "guess= \"ge\"\n",
        "\n",
        "guessed[guess]= 1\n",
        "\n",
        "guessed\n"
      ]
    },
    {
      "cell_type": "code",
      "execution_count": 27,
      "metadata": {},
      "outputs": [],
      "source": [
        "import pandas as pd\n",
        "df=pd.DataFrame.from_dict(guessed, orient='index')"
      ]
    },
    {
      "cell_type": "code",
      "execution_count": 28,
      "metadata": {},
      "outputs": [
        {
          "data": {
            "text/html": [
              "<div>\n",
              "<style scoped>\n",
              "    .dataframe tbody tr th:only-of-type {\n",
              "        vertical-align: middle;\n",
              "    }\n",
              "\n",
              "    .dataframe tbody tr th {\n",
              "        vertical-align: top;\n",
              "    }\n",
              "\n",
              "    .dataframe thead th {\n",
              "        text-align: right;\n",
              "    }\n",
              "</style>\n",
              "<table border=\"1\" class=\"dataframe\">\n",
              "  <thead>\n",
              "    <tr style=\"text-align: right;\">\n",
              "      <th></th>\n",
              "      <th>0</th>\n",
              "    </tr>\n",
              "  </thead>\n",
              "  <tbody>\n",
              "    <tr>\n",
              "      <th>table</th>\n",
              "      <td>1</td>\n",
              "    </tr>\n",
              "    <tr>\n",
              "      <th>book</th>\n",
              "      <td>1</td>\n",
              "    </tr>\n",
              "  </tbody>\n",
              "</table>\n",
              "</div>"
            ],
            "text/plain": [
              "       0\n",
              "table  1\n",
              "book   1"
            ]
          },
          "execution_count": 28,
          "metadata": {},
          "output_type": "execute_result"
        }
      ],
      "source": [
        "df"
      ]
    },
    {
      "cell_type": "markdown",
      "metadata": {
        "id": "u-DiCLxhm79R"
      },
      "source": [
        "creating the agent"
      ]
    },
    {
      "cell_type": "code",
      "execution_count": 61,
      "metadata": {
        "id": "R0n-D201lPe5"
      },
      "outputs": [],
      "source": [
        "import matplotlib\n",
        "import matplotlib.pyplot as plt\n",
        "from collections import namedtuple, deque\n",
        "from itertools import count\n",
        "import math\n",
        "\n",
        "\n",
        "import torch\n",
        "import torch.nn as nn\n",
        "import torch.optim as optim\n",
        "import torch.nn.functional as F\n",
        "\n",
        "# set up matplotlib\n",
        "is_ipython = 'inline' in matplotlib.get_backend()\n",
        "if is_ipython:\n",
        "    from IPython import display\n",
        "\n",
        "plt.ion()\n",
        "\n",
        "# if gpu is to be used\n",
        "device = torch.device(\"cuda\" if torch.cuda.is_available() else \"cpu\")"
      ]
    },
    {
      "cell_type": "markdown",
      "metadata": {
        "id": "Snhky7KVCoFk"
      },
      "source": [
        "Q-learning attempt"
      ]
    },
    {
      "cell_type": "code",
      "execution_count": 60,
      "metadata": {
        "colab": {
          "base_uri": "https://localhost:8080/"
        },
        "id": "UToifkLOpNSC",
        "outputId": "74675cde-431a-4cfa-e8ee-014ff61d2809"
      },
      "outputs": [
        {
          "data": {
            "text/plain": [
              "array([[-100, -100, -100, ..., -100, -100, -100],\n",
              "       [-100, -100, -100, ..., -100, -100, -100],\n",
              "       [-100, -100, -100, ..., -100, -100, -100],\n",
              "       ...,\n",
              "       [-100, -100, -100, ..., -100, -100, -100],\n",
              "       [-100, -100, -100, ..., -100, -100, -100],\n",
              "       [-100, -100, -100, ..., -100, -100, -100]])"
            ]
          },
          "execution_count": 60,
          "metadata": {},
          "output_type": "execute_result"
        }
      ],
      "source": [
        "#a simple Q-learning model should be able to solve this game\n",
        "q_table= np.zeros((contexto.as_len(),contexto.as_len()))\n",
        "#fill all table values with -100\n",
        "q_table= np.full((contexto.as_len(),contexto.as_len()))\n",
        "q_table"
      ]
    },
    {
      "attachments": {},
      "cell_type": "markdown",
      "metadata": {},
      "source": [
        "The UI"
      ]
    },
    {
      "cell_type": "code",
      "execution_count": 24,
      "metadata": {},
      "outputs": [
        {
          "name": "stdout",
          "output_type": "stream",
          "text": [
            "Collecting kivyNote: you may need to restart the kernel to use updated packages.\n"
          ]
        },
        {
          "name": "stderr",
          "output_type": "stream",
          "text": [
            "  WARNING: The script docutils.exe is installed in 'C:\\Users\\ое\\AppData\\Local\\Packages\\PythonSoftwareFoundation.Python.3.10_qbz5n2kfra8p0\\LocalCache\\local-packages\\Python310\\Scripts' which is not on PATH.\n",
            "  Consider adding this directory to PATH or, if you prefer to suppress this warning, use --no-warn-script-location.\n",
            "\n",
            "[notice] A new release of pip available: 22.3.1 -> 23.0.1\n",
            "[notice] To update, run: C:\\Users\\ое\\AppData\\Local\\Microsoft\\WindowsApps\\PythonSoftwareFoundation.Python.3.10_qbz5n2kfra8p0\\python.exe -m pip install --upgrade pip\n"
          ]
        },
        {
          "name": "stdout",
          "output_type": "stream",
          "text": [
            "\n",
            "  Downloading Kivy-2.1.0-cp310-cp310-win_amd64.whl (4.0 MB)\n",
            "     ---------------------------------------- 4.0/4.0 MB 7.9 MB/s eta 0:00:00\n",
            "Requirement already satisfied: pygments in c:\\users\\ое\\appdata\\local\\packages\\pythonsoftwarefoundation.python.3.10_qbz5n2kfra8p0\\localcache\\local-packages\\python310\\site-packages (from kivy) (2.13.0)\n",
            "Collecting Kivy-Garden>=0.1.4\n",
            "  Downloading Kivy_Garden-0.1.5-py3-none-any.whl (4.6 kB)\n",
            "Collecting kivy-deps.angle~=0.3.2\n",
            "  Downloading kivy_deps.angle-0.3.3-cp310-cp310-win_amd64.whl (4.8 MB)\n",
            "     ---------------------------------------- 4.8/4.8 MB 7.5 MB/s eta 0:00:00\n",
            "Collecting docutils\n",
            "  Downloading docutils-0.19-py3-none-any.whl (570 kB)\n",
            "     -------------------------------------- 570.5/570.5 kB 4.5 MB/s eta 0:00:00\n",
            "Collecting pypiwin32\n",
            "  Downloading pypiwin32-223-py3-none-any.whl (1.7 kB)\n",
            "Collecting kivy-deps.sdl2~=0.4.5\n",
            "  Downloading kivy_deps.sdl2-0.4.5-cp310-cp310-win_amd64.whl (3.1 MB)\n",
            "     ---------------------------------------- 3.1/3.1 MB 7.2 MB/s eta 0:00:00\n",
            "Collecting kivy-deps.glew~=0.3.1\n",
            "  Downloading kivy_deps.glew-0.3.1-cp310-cp310-win_amd64.whl (123 kB)\n",
            "     -------------------------------------- 123.6/123.6 kB 3.7 MB/s eta 0:00:00\n",
            "Requirement already satisfied: requests in c:\\users\\ое\\appdata\\local\\packages\\pythonsoftwarefoundation.python.3.10_qbz5n2kfra8p0\\localcache\\local-packages\\python310\\site-packages (from Kivy-Garden>=0.1.4->kivy) (2.28.1)\n",
            "Requirement already satisfied: pywin32>=223 in c:\\users\\ое\\appdata\\local\\packages\\pythonsoftwarefoundation.python.3.10_qbz5n2kfra8p0\\localcache\\local-packages\\python310\\site-packages (from pypiwin32->kivy) (305)\n",
            "Requirement already satisfied: charset-normalizer<3,>=2 in c:\\users\\ое\\appdata\\local\\packages\\pythonsoftwarefoundation.python.3.10_qbz5n2kfra8p0\\localcache\\local-packages\\python310\\site-packages (from requests->Kivy-Garden>=0.1.4->kivy) (2.1.1)\n",
            "Requirement already satisfied: idna<4,>=2.5 in c:\\users\\ое\\appdata\\local\\packages\\pythonsoftwarefoundation.python.3.10_qbz5n2kfra8p0\\localcache\\local-packages\\python310\\site-packages (from requests->Kivy-Garden>=0.1.4->kivy) (3.4)\n",
            "Requirement already satisfied: certifi>=2017.4.17 in c:\\users\\ое\\appdata\\local\\packages\\pythonsoftwarefoundation.python.3.10_qbz5n2kfra8p0\\localcache\\local-packages\\python310\\site-packages (from requests->Kivy-Garden>=0.1.4->kivy) (2022.12.7)\n",
            "Requirement already satisfied: urllib3<1.27,>=1.21.1 in c:\\users\\ое\\appdata\\local\\packages\\pythonsoftwarefoundation.python.3.10_qbz5n2kfra8p0\\localcache\\local-packages\\python310\\site-packages (from requests->Kivy-Garden>=0.1.4->kivy) (1.26.13)\n",
            "Installing collected packages: kivy-deps.sdl2, kivy-deps.glew, kivy-deps.angle, pypiwin32, docutils, Kivy-Garden, kivy\n",
            "Successfully installed Kivy-Garden-0.1.5 docutils-0.19 kivy-2.1.0 kivy-deps.angle-0.3.3 kivy-deps.glew-0.3.1 kivy-deps.sdl2-0.4.5 pypiwin32-223\n"
          ]
        }
      ],
      "source": [
        "pip install kivy\n"
      ]
    },
    {
      "cell_type": "code",
      "execution_count": 54,
      "metadata": {},
      "outputs": [],
      "source": [
        "import pandas as pd\n",
        "\n",
        "guessesPath= \"D:\\\\projectContexto\\\\contextoApp\\\\guesses.txt\"\n",
        "\n",
        "\n",
        "pdguessed= pd.read_csv(guessesPath, sep=\",\", header=0)\n"
      ]
    },
    {
      "cell_type": "code",
      "execution_count": 76,
      "metadata": {},
      "outputs": [
        {
          "data": {
            "text/plain": [
              "' Similarities'"
            ]
          },
          "execution_count": 76,
          "metadata": {},
          "output_type": "execute_result"
        }
      ],
      "source": [
        "#pdguessed.iloc[:,[\"Words\" ,\"Similarities\"]]\n",
        "\n",
        "def highlight_survived(s):\n",
        "    #print(type(s))\n",
        "    print(\"#########\")\n",
        "    #print( ['background-color: green']*len(s) if s.Words =='word' else ['background-color: red']*len(s))\n",
        "\n",
        "#newl =pd.DataFrame(pdguessed.style.apply(highlight_survived, axis=1))\n",
        "pdguessed= pd.read_csv(guessesPath, sep=\",\", header=0)\n",
        " \n",
        " \n",
        "\n",
        "\n",
        "def color(x):\n",
        "    cold= 0\n",
        "    worm= 0.4\n",
        "    hot= 0.7\n",
        "    print(x[1])\n",
        "    if  x[1]>= cold and x[1]<= worm :\n",
        "        return ['background-color : #e81e80']*len(x)\n",
        "    elif x[1]> worm and x[1]<= hot:\n",
        "        return ['background-color : #Ea7051']*len(x)\n",
        "    elif x[1]> hot:\n",
        "        return ['background-color : #73f181']*len(x)\n",
        "\n",
        "\n",
        "sortedGuesses=pdguessed.sort_values(by=[pdguessed.keys()[1]], ascending=False) \n",
        "#sortedGuesses.style.apply(color, axis=1)\n",
        "\n",
        "pdguessed.keys()[1]"
      ]
    },
    {
      "cell_type": "code",
      "execution_count": null,
      "metadata": {},
      "outputs": [],
      "source": [
        "\"\"\"\n",
        "\n",
        "for i in range(len(pdguessed)):\n",
        "    print(pdguessed.iloc[[i],[0]])\"\"\""
      ]
    }
  ],
  "metadata": {
    "colab": {
      "provenance": []
    },
    "gpuClass": "standard",
    "kernelspec": {
      "display_name": "Python 3",
      "name": "python3"
    },
    "language_info": {
      "codemirror_mode": {
        "name": "ipython",
        "version": 3
      },
      "file_extension": ".py",
      "mimetype": "text/x-python",
      "name": "python",
      "nbconvert_exporter": "python",
      "pygments_lexer": "ipython3",
      "version": "3.10.10"
    }
  },
  "nbformat": 4,
  "nbformat_minor": 0
}
